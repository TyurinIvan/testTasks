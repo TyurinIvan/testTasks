{
  "nbformat": 4,
  "nbformat_minor": 0,
  "metadata": {
    "colab": {
      "name": "Untitled3.ipynb",
      "provenance": [],
      "collapsed_sections": []
    },
    "kernelspec": {
      "name": "python3",
      "display_name": "Python 3"
    }
  },
  "cells": [
    {
      "cell_type": "code",
      "metadata": {
        "id": "YBxg6bFnk8tB"
      },
      "source": [
        "import pandas as pd\r\n",
        "import numpy as np"
      ],
      "execution_count": 1,
      "outputs": []
    },
    {
      "cell_type": "code",
      "metadata": {
        "id": "vGtMEkRrR2pP"
      },
      "source": [
        "df = pd.read_excel('https://github.com/TyurinIvan/testTasks/blob/master/Analytical%20test%20task/Data%20base.xlsx?raw=true',\r\n",
        "                    sheet_name='DataAnalytics').drop([0, 1, 7, 8, 9]).reset_index(drop=True)"
      ],
      "execution_count": 2,
      "outputs": []
    },
    {
      "cell_type": "code",
      "metadata": {
        "colab": {
          "base_uri": "https://localhost:8080/",
          "height": 204
        },
        "id": "8f-UXhQ0SU8A",
        "outputId": "d6de6c5a-d6d0-4d2e-cdb2-bfba3c81e3c6"
      },
      "source": [
        "df"
      ],
      "execution_count": 3,
      "outputs": [
        {
          "output_type": "execute_result",
          "data": {
            "text/html": [
              "<div>\n",
              "<style scoped>\n",
              "    .dataframe tbody tr th:only-of-type {\n",
              "        vertical-align: middle;\n",
              "    }\n",
              "\n",
              "    .dataframe tbody tr th {\n",
              "        vertical-align: top;\n",
              "    }\n",
              "\n",
              "    .dataframe thead th {\n",
              "        text-align: right;\n",
              "    }\n",
              "</style>\n",
              "<table border=\"1\" class=\"dataframe\">\n",
              "  <thead>\n",
              "    <tr style=\"text-align: right;\">\n",
              "      <th></th>\n",
              "      <th>Разряд</th>\n",
              "      <th>Оклад</th>\n",
              "      <th>Коэффициент</th>\n",
              "    </tr>\n",
              "  </thead>\n",
              "  <tbody>\n",
              "    <tr>\n",
              "      <th>0</th>\n",
              "      <td>3</td>\n",
              "      <td>12180.0</td>\n",
              "      <td>7.164706</td>\n",
              "    </tr>\n",
              "    <tr>\n",
              "      <th>1</th>\n",
              "      <td>4</td>\n",
              "      <td>14130.0</td>\n",
              "      <td>8.311765</td>\n",
              "    </tr>\n",
              "    <tr>\n",
              "      <th>2</th>\n",
              "      <td>5</td>\n",
              "      <td>16390.0</td>\n",
              "      <td>9.641176</td>\n",
              "    </tr>\n",
              "    <tr>\n",
              "      <th>3</th>\n",
              "      <td>6</td>\n",
              "      <td>19020.0</td>\n",
              "      <td>11.188235</td>\n",
              "    </tr>\n",
              "    <tr>\n",
              "      <th>4</th>\n",
              "      <td>7</td>\n",
              "      <td>22060.0</td>\n",
              "      <td>12.976471</td>\n",
              "    </tr>\n",
              "  </tbody>\n",
              "</table>\n",
              "</div>"
            ],
            "text/plain": [
              "   Разряд    Оклад  Коэффициент\n",
              "0       3  12180.0     7.164706\n",
              "1       4  14130.0     8.311765\n",
              "2       5  16390.0     9.641176\n",
              "3       6  19020.0    11.188235\n",
              "4       7  22060.0    12.976471"
            ]
          },
          "metadata": {
            "tags": []
          },
          "execution_count": 3
        }
      ]
    },
    {
      "cell_type": "code",
      "metadata": {
        "id": "0m_it2WUl3-X"
      },
      "source": [
        "skill = pd.DataFrame(df['Разряд'])\r\n",
        "coefficient = pd.DataFrame(df['Коэффициент'])"
      ],
      "execution_count": 4,
      "outputs": []
    },
    {
      "cell_type": "code",
      "metadata": {
        "colab": {
          "base_uri": "https://localhost:8080/",
          "height": 204
        },
        "id": "TGsB9A9pTZg_",
        "outputId": "0fb6aac8-65dc-4e16-929b-01692b5d07ab"
      },
      "source": [
        "skill.set_axis([0], axis='columns', inplace=True)\r\n",
        "skill"
      ],
      "execution_count": 5,
      "outputs": [
        {
          "output_type": "execute_result",
          "data": {
            "text/html": [
              "<div>\n",
              "<style scoped>\n",
              "    .dataframe tbody tr th:only-of-type {\n",
              "        vertical-align: middle;\n",
              "    }\n",
              "\n",
              "    .dataframe tbody tr th {\n",
              "        vertical-align: top;\n",
              "    }\n",
              "\n",
              "    .dataframe thead th {\n",
              "        text-align: right;\n",
              "    }\n",
              "</style>\n",
              "<table border=\"1\" class=\"dataframe\">\n",
              "  <thead>\n",
              "    <tr style=\"text-align: right;\">\n",
              "      <th></th>\n",
              "      <th>0</th>\n",
              "    </tr>\n",
              "  </thead>\n",
              "  <tbody>\n",
              "    <tr>\n",
              "      <th>0</th>\n",
              "      <td>3</td>\n",
              "    </tr>\n",
              "    <tr>\n",
              "      <th>1</th>\n",
              "      <td>4</td>\n",
              "    </tr>\n",
              "    <tr>\n",
              "      <th>2</th>\n",
              "      <td>5</td>\n",
              "    </tr>\n",
              "    <tr>\n",
              "      <th>3</th>\n",
              "      <td>6</td>\n",
              "    </tr>\n",
              "    <tr>\n",
              "      <th>4</th>\n",
              "      <td>7</td>\n",
              "    </tr>\n",
              "  </tbody>\n",
              "</table>\n",
              "</div>"
            ],
            "text/plain": [
              "   0\n",
              "0  3\n",
              "1  4\n",
              "2  5\n",
              "3  6\n",
              "4  7"
            ]
          },
          "metadata": {
            "tags": []
          },
          "execution_count": 5
        }
      ]
    },
    {
      "cell_type": "code",
      "metadata": {
        "colab": {
          "base_uri": "https://localhost:8080/",
          "height": 204
        },
        "id": "GcsL_v6-Tazk",
        "outputId": "5780cce9-83e5-42d2-c522-98eef325d4f7"
      },
      "source": [
        "coefficient.set_axis([1], axis='columns', inplace=True)\r\n",
        "coefficient"
      ],
      "execution_count": 6,
      "outputs": [
        {
          "output_type": "execute_result",
          "data": {
            "text/html": [
              "<div>\n",
              "<style scoped>\n",
              "    .dataframe tbody tr th:only-of-type {\n",
              "        vertical-align: middle;\n",
              "    }\n",
              "\n",
              "    .dataframe tbody tr th {\n",
              "        vertical-align: top;\n",
              "    }\n",
              "\n",
              "    .dataframe thead th {\n",
              "        text-align: right;\n",
              "    }\n",
              "</style>\n",
              "<table border=\"1\" class=\"dataframe\">\n",
              "  <thead>\n",
              "    <tr style=\"text-align: right;\">\n",
              "      <th></th>\n",
              "      <th>1</th>\n",
              "    </tr>\n",
              "  </thead>\n",
              "  <tbody>\n",
              "    <tr>\n",
              "      <th>0</th>\n",
              "      <td>7.164706</td>\n",
              "    </tr>\n",
              "    <tr>\n",
              "      <th>1</th>\n",
              "      <td>8.311765</td>\n",
              "    </tr>\n",
              "    <tr>\n",
              "      <th>2</th>\n",
              "      <td>9.641176</td>\n",
              "    </tr>\n",
              "    <tr>\n",
              "      <th>3</th>\n",
              "      <td>11.188235</td>\n",
              "    </tr>\n",
              "    <tr>\n",
              "      <th>4</th>\n",
              "      <td>12.976471</td>\n",
              "    </tr>\n",
              "  </tbody>\n",
              "</table>\n",
              "</div>"
            ],
            "text/plain": [
              "           1\n",
              "0   7.164706\n",
              "1   8.311765\n",
              "2   9.641176\n",
              "3  11.188235\n",
              "4  12.976471"
            ]
          },
          "metadata": {
            "tags": []
          },
          "execution_count": 6
        }
      ]
    },
    {
      "cell_type": "code",
      "metadata": {
        "colab": {
          "base_uri": "https://localhost:8080/",
          "height": 204
        },
        "id": "5zm7muK1ogeG",
        "outputId": "c89aec5e-3255-41c3-b618-1e7b2545e07c"
      },
      "source": [
        "# Добавление полиномов до 4 степени включительно\r\n",
        "for pow in range(2, 5):\r\n",
        "  skill[pow-1] = (skill[0])**pow\r\n",
        "\r\n",
        "skill"
      ],
      "execution_count": 7,
      "outputs": [
        {
          "output_type": "execute_result",
          "data": {
            "text/html": [
              "<div>\n",
              "<style scoped>\n",
              "    .dataframe tbody tr th:only-of-type {\n",
              "        vertical-align: middle;\n",
              "    }\n",
              "\n",
              "    .dataframe tbody tr th {\n",
              "        vertical-align: top;\n",
              "    }\n",
              "\n",
              "    .dataframe thead th {\n",
              "        text-align: right;\n",
              "    }\n",
              "</style>\n",
              "<table border=\"1\" class=\"dataframe\">\n",
              "  <thead>\n",
              "    <tr style=\"text-align: right;\">\n",
              "      <th></th>\n",
              "      <th>0</th>\n",
              "      <th>1</th>\n",
              "      <th>2</th>\n",
              "      <th>3</th>\n",
              "    </tr>\n",
              "  </thead>\n",
              "  <tbody>\n",
              "    <tr>\n",
              "      <th>0</th>\n",
              "      <td>3</td>\n",
              "      <td>9</td>\n",
              "      <td>27</td>\n",
              "      <td>81</td>\n",
              "    </tr>\n",
              "    <tr>\n",
              "      <th>1</th>\n",
              "      <td>4</td>\n",
              "      <td>16</td>\n",
              "      <td>64</td>\n",
              "      <td>256</td>\n",
              "    </tr>\n",
              "    <tr>\n",
              "      <th>2</th>\n",
              "      <td>5</td>\n",
              "      <td>25</td>\n",
              "      <td>125</td>\n",
              "      <td>625</td>\n",
              "    </tr>\n",
              "    <tr>\n",
              "      <th>3</th>\n",
              "      <td>6</td>\n",
              "      <td>36</td>\n",
              "      <td>216</td>\n",
              "      <td>1296</td>\n",
              "    </tr>\n",
              "    <tr>\n",
              "      <th>4</th>\n",
              "      <td>7</td>\n",
              "      <td>49</td>\n",
              "      <td>343</td>\n",
              "      <td>2401</td>\n",
              "    </tr>\n",
              "  </tbody>\n",
              "</table>\n",
              "</div>"
            ],
            "text/plain": [
              "   0   1    2     3\n",
              "0  3   9   27    81\n",
              "1  4  16   64   256\n",
              "2  5  25  125   625\n",
              "3  6  36  216  1296\n",
              "4  7  49  343  2401"
            ]
          },
          "metadata": {
            "tags": []
          },
          "execution_count": 7
        }
      ]
    },
    {
      "cell_type": "code",
      "metadata": {
        "id": "uUO5cEVJnCvT"
      },
      "source": [
        "from sklearn.linear_model import LinearRegression\r\n",
        "from sklearn.metrics import mean_squared_error\r\n",
        "from matplotlib import pyplot as plt"
      ],
      "execution_count": 8,
      "outputs": []
    },
    {
      "cell_type": "markdown",
      "metadata": {
        "id": "D53yFeXfbn8s"
      },
      "source": [
        "Обучим нашу модель и выведем коэффициенты  $w_i$"
      ]
    },
    {
      "cell_type": "code",
      "metadata": {
        "colab": {
          "base_uri": "https://localhost:8080/"
        },
        "id": "rXB-5IsXnL51",
        "outputId": "8a2a916d-f0bd-405d-ffb6-4ff83ba9f9d8"
      },
      "source": [
        "lr = LinearRegression().fit(skill, coefficient)\r\n",
        "lr.coef_"
      ],
      "execution_count": 9,
      "outputs": [
        {
          "output_type": "execute_result",
          "data": {
            "text/plain": [
              "array([[ 9.52941176e-01, -3.77450980e-02,  1.47058824e-02,\n",
              "        -4.90196078e-04]])"
            ]
          },
          "metadata": {
            "tags": []
          },
          "execution_count": 9
        }
      ]
    },
    {
      "cell_type": "markdown",
      "metadata": {
        "id": "YZjedq7QbkNc"
      },
      "source": [
        "Вывдем значение bias."
      ]
    },
    {
      "cell_type": "code",
      "metadata": {
        "colab": {
          "base_uri": "https://localhost:8080/"
        },
        "id": "LJh2JcQWni6G",
        "outputId": "720b323c-7df1-4284-a64e-f82f4be651d8"
      },
      "source": [
        "lr.intercept_"
      ],
      "execution_count": 10,
      "outputs": [
        {
          "output_type": "execute_result",
          "data": {
            "text/plain": [
              "array([4.28823529])"
            ]
          },
          "metadata": {
            "tags": []
          },
          "execution_count": 10
        }
      ]
    },
    {
      "cell_type": "markdown",
      "metadata": {
        "id": "_aODNv_ed2vY"
      },
      "source": [
        "Создадим опорные точки для построения общего прогноза."
      ]
    },
    {
      "cell_type": "code",
      "metadata": {
        "colab": {
          "base_uri": "https://localhost:8080/",
          "height": 419
        },
        "id": "cDDT5QtIrNpw",
        "outputId": "253dd73d-4a31-41ed-bde0-c194e7b76ec1"
      },
      "source": [
        "plotX = pd.DataFrame(np.arange(0, 10.1, 0.1).reshape(-1, 1))\r\n",
        "for pow in range(2, 5):\r\n",
        "  plotX[pow-1] = (plotX[0])**pow\r\n",
        "\r\n",
        "plotX"
      ],
      "execution_count": 11,
      "outputs": [
        {
          "output_type": "execute_result",
          "data": {
            "text/html": [
              "<div>\n",
              "<style scoped>\n",
              "    .dataframe tbody tr th:only-of-type {\n",
              "        vertical-align: middle;\n",
              "    }\n",
              "\n",
              "    .dataframe tbody tr th {\n",
              "        vertical-align: top;\n",
              "    }\n",
              "\n",
              "    .dataframe thead th {\n",
              "        text-align: right;\n",
              "    }\n",
              "</style>\n",
              "<table border=\"1\" class=\"dataframe\">\n",
              "  <thead>\n",
              "    <tr style=\"text-align: right;\">\n",
              "      <th></th>\n",
              "      <th>0</th>\n",
              "      <th>1</th>\n",
              "      <th>2</th>\n",
              "      <th>3</th>\n",
              "    </tr>\n",
              "  </thead>\n",
              "  <tbody>\n",
              "    <tr>\n",
              "      <th>0</th>\n",
              "      <td>0.0</td>\n",
              "      <td>0.00</td>\n",
              "      <td>0.000</td>\n",
              "      <td>0.0000</td>\n",
              "    </tr>\n",
              "    <tr>\n",
              "      <th>1</th>\n",
              "      <td>0.1</td>\n",
              "      <td>0.01</td>\n",
              "      <td>0.001</td>\n",
              "      <td>0.0001</td>\n",
              "    </tr>\n",
              "    <tr>\n",
              "      <th>2</th>\n",
              "      <td>0.2</td>\n",
              "      <td>0.04</td>\n",
              "      <td>0.008</td>\n",
              "      <td>0.0016</td>\n",
              "    </tr>\n",
              "    <tr>\n",
              "      <th>3</th>\n",
              "      <td>0.3</td>\n",
              "      <td>0.09</td>\n",
              "      <td>0.027</td>\n",
              "      <td>0.0081</td>\n",
              "    </tr>\n",
              "    <tr>\n",
              "      <th>4</th>\n",
              "      <td>0.4</td>\n",
              "      <td>0.16</td>\n",
              "      <td>0.064</td>\n",
              "      <td>0.0256</td>\n",
              "    </tr>\n",
              "    <tr>\n",
              "      <th>...</th>\n",
              "      <td>...</td>\n",
              "      <td>...</td>\n",
              "      <td>...</td>\n",
              "      <td>...</td>\n",
              "    </tr>\n",
              "    <tr>\n",
              "      <th>96</th>\n",
              "      <td>9.6</td>\n",
              "      <td>92.16</td>\n",
              "      <td>884.736</td>\n",
              "      <td>8493.4656</td>\n",
              "    </tr>\n",
              "    <tr>\n",
              "      <th>97</th>\n",
              "      <td>9.7</td>\n",
              "      <td>94.09</td>\n",
              "      <td>912.673</td>\n",
              "      <td>8852.9281</td>\n",
              "    </tr>\n",
              "    <tr>\n",
              "      <th>98</th>\n",
              "      <td>9.8</td>\n",
              "      <td>96.04</td>\n",
              "      <td>941.192</td>\n",
              "      <td>9223.6816</td>\n",
              "    </tr>\n",
              "    <tr>\n",
              "      <th>99</th>\n",
              "      <td>9.9</td>\n",
              "      <td>98.01</td>\n",
              "      <td>970.299</td>\n",
              "      <td>9605.9601</td>\n",
              "    </tr>\n",
              "    <tr>\n",
              "      <th>100</th>\n",
              "      <td>10.0</td>\n",
              "      <td>100.00</td>\n",
              "      <td>1000.000</td>\n",
              "      <td>10000.0000</td>\n",
              "    </tr>\n",
              "  </tbody>\n",
              "</table>\n",
              "<p>101 rows × 4 columns</p>\n",
              "</div>"
            ],
            "text/plain": [
              "        0       1         2           3\n",
              "0     0.0    0.00     0.000      0.0000\n",
              "1     0.1    0.01     0.001      0.0001\n",
              "2     0.2    0.04     0.008      0.0016\n",
              "3     0.3    0.09     0.027      0.0081\n",
              "4     0.4    0.16     0.064      0.0256\n",
              "..    ...     ...       ...         ...\n",
              "96    9.6   92.16   884.736   8493.4656\n",
              "97    9.7   94.09   912.673   8852.9281\n",
              "98    9.8   96.04   941.192   9223.6816\n",
              "99    9.9   98.01   970.299   9605.9601\n",
              "100  10.0  100.00  1000.000  10000.0000\n",
              "\n",
              "[101 rows x 4 columns]"
            ]
          },
          "metadata": {
            "tags": []
          },
          "execution_count": 11
        }
      ]
    },
    {
      "cell_type": "code",
      "metadata": {
        "colab": {
          "base_uri": "https://localhost:8080/"
        },
        "id": "QRMIEG6DsTy0",
        "outputId": "b0272254-4650-4f66-e571-7d5b160bf5cd"
      },
      "source": [
        "plotY = lr.predict(plotX)\r\n",
        "Y = lr.predict(skill)\r\n",
        "\r\n",
        "MSE = mean_squared_error(coefficient, Y)\r\n",
        "print('MSE: ', MSE)"
      ],
      "execution_count": 12,
      "outputs": [
        {
          "output_type": "stream",
          "text": [
            "MSE:  2.0510383535746308e-30\n"
          ],
          "name": "stdout"
        }
      ]
    },
    {
      "cell_type": "code",
      "metadata": {
        "colab": {
          "base_uri": "https://localhost:8080/",
          "height": 502
        },
        "id": "d9ZMSeDhsoH_",
        "outputId": "2784773c-819d-4b34-adcc-192da24e3527"
      },
      "source": [
        "fig, ax = plt.subplots()\r\n",
        "fig.set_figwidth(16)\r\n",
        "fig.set_figheight(8)\r\n",
        "ax.set_xlabel('Разряд', fontsize=15)\r\n",
        "ax.set_ylabel('Коэффициент', fontsize=15)\r\n",
        "ax.set_xticks(np.arange(0, 11, 1))\r\n",
        "ax.set_yticks(np.arange(3, 20.5, 0.5))\r\n",
        "\r\n",
        "ax.plot(plotX[0], plotY, label='Прогноз')\r\n",
        "ax.plot(skill[0], coefficient, 'o-', label='Реальные данные')\r\n",
        "plt.legend(loc=\"upper left\", fontsize=20)\r\n",
        "plt.grid()\r\n",
        "plt.show()"
      ],
      "execution_count": 13,
      "outputs": [
        {
          "output_type": "display_data",
          "data": {
            "image/png": "[encoded data removed]",
            "text/plain": [
              "<Figure size 1152x576 with 1 Axes>"
            ]
          },
          "metadata": {
            "tags": [],
            "needs_background": "light"
          }
        }
      ]
    }
  ]
}