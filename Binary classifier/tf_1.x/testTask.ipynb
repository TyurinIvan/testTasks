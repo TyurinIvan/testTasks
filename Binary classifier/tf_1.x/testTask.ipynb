{
  "nbformat": 4,
  "nbformat_minor": 0,
  "metadata": {
    "colab": {
      "name": "MyTest3.ipynb",
      "provenance": [],
      "collapsed_sections": []
    },
    "kernelspec": {
      "display_name": "Python 3",
      "name": "python3"
    }
  },
  "cells": [
    {
      "cell_type": "code",
      "metadata": {
        "id": "J8Aes2v5tHkj"
      },
      "source": [
        "# Загрузка необходимых библиотек и модулей\r\n",
        "\r\n",
        "import zipfile # Библиотека для работы с zip архивами\r\n",
        "import os      # Библиотека для работы с фаловой системой \r\n",
        "import time    # Библиотека для работы со временем\r\n",
        "import numpy as np                # Куда же без него\r\n",
        "# import matplotlib.pyplot as plt # Для вывода изображений во время отладки\r\n",
        "\r\n",
        "from google.colab import drive # Модуль для работы с Google Disk\r\n",
        "from PIL import Image          # Модуль Image для работы с изображениями"
      ],
      "execution_count": 1,
      "outputs": []
    },
    {
      "cell_type": "code",
      "metadata": {
        "colab": {
          "base_uri": "https://localhost:8080/"
        },
        "id": "oOe54jjktMw4",
        "outputId": "19b54603-62d3-4df3-fe30-57660c1585e6"
      },
      "source": [
        "drive.mount('/content/drive') # Подключение к диску"
      ],
      "execution_count": 2,
      "outputs": [
        {
          "output_type": "stream",
          "text": [
            "Mounted at /content/drive\n"
          ],
          "name": "stdout"
        }
      ]
    },
    {
      "cell_type": "code",
      "metadata": {
        "colab": {
          "base_uri": "https://localhost:8080/"
        },
        "id": "QsipJ6lCtORo",
        "outputId": "3a522eca-0c14-4292-cdd5-00e496206c38"
      },
      "source": [
        "# Прописываем путь к файлу с архивом\r\n",
        "zip_file = '/content/drive/My Drive/TestTask/beeVSwasp.zip'  # Укажите здесь путь до zip-рхива в Гугл-диске (после My Drive)\r\n",
        "                                                             # Zip-архив должен находиться в отдельном каталоге\r\n",
        "\r\n",
        "# Распаковываем архив\r\n",
        "z = zipfile.ZipFile(zip_file, 'r')\r\n",
        "z.extractall()\r\n",
        "\r\n",
        "# Просмотр результата разархивации\r\n",
        "print(os.listdir())"
      ],
      "execution_count": 3,
      "outputs": [
        {
          "output_type": "stream",
          "text": [
            "['.config', 'drive', 'wasp', 'bee', 'sample_data']\n"
          ],
          "name": "stdout"
        }
      ]
    },
    {
      "cell_type": "code",
      "metadata": {
        "id": "zHHb45yowE1D"
      },
      "source": [
        "# Читаем файлы из каталога (с измерением затраченного времени)\r\n",
        "# В данном случае выполняется предварительная обработка изображений\r\n",
        "\r\n",
        "img_list = []\r\n",
        "services = ('.config', 'drive', 'sample_data')\r\n",
        "\r\n",
        "def get_time_read():\r\n",
        "  cur_time = time.time()          # Засекаем текущее время\r\n",
        "  num = 0                         # Количество прочитанных файлов\r\n",
        "  list_dir = os.listdir()         # Получаем список подкаталогов\r\n",
        "  print(list_dir)                  \r\n",
        "  for cur_dir in list_dir:\r\n",
        "    if cur_dir not in services:\r\n",
        "      list_file = os.listdir(cur_dir)\r\n",
        "      # print(list_file)\r\n",
        "      for cur_file in list_file:\r\n",
        "        img = Image.open(cur_dir + '/' + cur_file) # Читаем изображение\r\n",
        "        img = img.resize((256, 256), Image.BILINEAR)\r\n",
        "        img = img.convert('L')\r\n",
        "        img = (np.array(img, dtype=float) / 255).reshape(-1)\r\n",
        "        img_list.append(img)\r\n",
        "        num += 1\r\n",
        "  print('Количество загруженных изображений =', num)\r\n",
        "  print('Затрачено времени -', round(time.time() - cur_time, 2), 'cек')"
      ],
      "execution_count": 4,
      "outputs": []
    },
    {
      "cell_type": "code",
      "metadata": {
        "colab": {
          "base_uri": "https://localhost:8080/"
        },
        "id": "oLYZsS2WtSkJ",
        "outputId": "edef3e34-c92f-43b7-ace9-26e107673310"
      },
      "source": [
        "# Считываем все картинки из базы и считаем затраченное время\r\n",
        "get_time_read()"
      ],
      "execution_count": 5,
      "outputs": [
        {
          "output_type": "stream",
          "text": [
            "['.config', 'drive', 'wasp', 'bee', 'sample_data']\n",
            "Количество загруженных изображений = 4596\n",
            "Затрачено времени - 16.53 cек\n"
          ],
          "name": "stdout"
        }
      ]
    },
    {
      "cell_type": "code",
      "metadata": {
        "colab": {
          "base_uri": "https://localhost:8080/"
        },
        "id": "HXob5hvQ29Rz",
        "outputId": "bc6a91e3-2567-4e31-a06d-60ee0dc7c6fe"
      },
      "source": [
        "img_list[2127] # Для теста. 2127 - первое изображение пчелы."
      ],
      "execution_count": 6,
      "outputs": [
        {
          "output_type": "execute_result",
          "data": {
            "text/plain": [
              "array([0.57647059, 0.57647059, 0.57254902, ..., 0.40784314, 0.4       ,\n",
              "       0.39215686])"
            ]
          },
          "metadata": {
            "tags": []
          },
          "execution_count": 6
        }
      ]
    },
    {
      "cell_type": "code",
      "metadata": {
        "id": "g0-uOCzRtT98"
      },
      "source": [
        "img_list = np.array(img_list)"
      ],
      "execution_count": 7,
      "outputs": []
    },
    {
      "cell_type": "code",
      "metadata": {
        "colab": {
          "base_uri": "https://localhost:8080/"
        },
        "id": "apHVzQbuz2Lp",
        "outputId": "bd860849-f586-4233-d803-2b0a4e839df6"
      },
      "source": [
        "len(img_list)"
      ],
      "execution_count": 8,
      "outputs": [
        {
          "output_type": "execute_result",
          "data": {
            "text/plain": [
              "4596"
            ]
          },
          "metadata": {
            "tags": []
          },
          "execution_count": 8
        }
      ]
    },
    {
      "cell_type": "code",
      "metadata": {
        "colab": {
          "base_uri": "https://localhost:8080/"
        },
        "id": "PMAYuxiNtXyg",
        "outputId": "ef781030-083b-4370-d5bb-41395dd6feac"
      },
      "source": [
        "# Создание целевых переменных в one_hot\r\n",
        "wasp = [1,0]*2127\r\n",
        "bee = [0,1]*2469\r\n",
        "\r\n",
        "waspBee = wasp+bee\r\n",
        "waspBee = np.array(waspBee).reshape(-1, 2)\r\n",
        "\r\n",
        "waspBee.shape"
      ],
      "execution_count": 9,
      "outputs": [
        {
          "output_type": "execute_result",
          "data": {
            "text/plain": [
              "(4596, 2)"
            ]
          },
          "metadata": {
            "tags": []
          },
          "execution_count": 9
        }
      ]
    },
    {
      "cell_type": "code",
      "metadata": {
        "id": "dtsvsyM_97tP"
      },
      "source": [
        "# Функция разбиения всех данных на тестовую и проверочную выборки\r\n",
        "def set_data(num, data, labels):\r\n",
        "    idx = np.arange(0 , len(data))\r\n",
        "    np.random.shuffle(idx)\r\n",
        "    idx_train = idx[:num]\r\n",
        "    idx_valid = idx[num:]\r\n",
        "    \r\n",
        "    train_data_shuffle = [data[ i] for i in idx_train]\r\n",
        "    train_labels_shuffle = [labels[ i] for i in idx_train]\r\n",
        "    \r\n",
        "    valid_data_shuffle = [data[ i] for i in idx_valid]\r\n",
        "    valid_labels_shuffle = [labels[ i] for i in idx_valid]\r\n",
        "\r\n",
        "    return (np.array(train_data_shuffle, dtype='float32'), np.array(train_labels_shuffle),\r\n",
        "            np.array(valid_data_shuffle, dtype='float32'), np.array(valid_labels_shuffle))"
      ],
      "execution_count": 10,
      "outputs": []
    },
    {
      "cell_type": "code",
      "metadata": {
        "id": "M8bYJDpOAYX1"
      },
      "source": [
        "# Разбиение данных на тестовую и проверочную выборки в соотношении 80:20\r\n",
        "train_size = int(0.8*len(img_list))\r\n",
        "\r\n",
        "train_data, train_labels, valid_data, valid_labels = set_data(train_size, img_list, waspBee)"
      ],
      "execution_count": 11,
      "outputs": []
    },
    {
      "cell_type": "code",
      "metadata": {
        "id": "pvoy8LMutaDY"
      },
      "source": [
        "# Функция выбора батча\r\n",
        "def next_batch(num, data, labels):\r\n",
        "    '''\r\n",
        "    Return a total of `num` random samples and labels. \r\n",
        "    '''\r\n",
        "    idx = np.arange(0 , len(data))\r\n",
        "    # print('idx', idx)\r\n",
        "    np.random.shuffle(idx)\r\n",
        "    idx = idx[:num]\r\n",
        "    data_shuffle = [data[ i] for i in idx]\r\n",
        "    labels_shuffle = [labels[ i] for i in idx]\r\n",
        "\r\n",
        "    return (np.array(data_shuffle, dtype='float32'), np.array(labels_shuffle))"
      ],
      "execution_count": 12,
      "outputs": []
    },
    {
      "cell_type": "code",
      "metadata": {
        "colab": {
          "base_uri": "https://localhost:8080/"
        },
        "id": "46I1mV-Y6R5u",
        "outputId": "a3adb261-9610-46fa-eaac-d2433414867a"
      },
      "source": [
        "# Установка другой версии Keras\r\n",
        "!pip uninstall tensorflow -y\r\n",
        "!pip install  tensorflow==1.14"
      ],
      "execution_count": 13,
      "outputs": [
        {
          "output_type": "stream",
          "text": [
            "Uninstalling tensorflow-2.4.1:\n",
            "  Successfully uninstalled tensorflow-2.4.1\n",
            "Collecting tensorflow==1.14\n",
            "\u001b[?25l  Downloading https://files.pythonhosted.org/packages/f4/28/96efba1a516cdacc2e2d6d081f699c001d414cc8ca3250e6d59ae657eb2b/tensorflow-1.14.0-cp37-cp37m-manylinux1_x86_64.whl (109.3MB)\n",
            "\u001b[K     |████████████████████████████████| 109.3MB 1.3MB/s \n",
            "\u001b[?25hRequirement already satisfied: protobuf>=3.6.1 in /usr/local/lib/python3.7/dist-packages (from tensorflow==1.14) (3.12.4)\n",
            "Requirement already satisfied: google-pasta>=0.1.6 in /usr/local/lib/python3.7/dist-packages (from tensorflow==1.14) (0.2.0)\n",
            "Requirement already satisfied: wrapt>=1.11.1 in /usr/local/lib/python3.7/dist-packages (from tensorflow==1.14) (1.12.1)\n",
            "Requirement already satisfied: wheel>=0.26 in /usr/local/lib/python3.7/dist-packages (from tensorflow==1.14) (0.36.2)\n",
            "Collecting keras-applications>=1.0.6\n",
            "\u001b[?25l  Downloading https://files.pythonhosted.org/packages/71/e3/19762fdfc62877ae9102edf6342d71b28fbfd9dea3d2f96a882ce099b03f/Keras_Applications-1.0.8-py3-none-any.whl (50kB)\n",
            "\u001b[K     |████████████████████████████████| 51kB 7.2MB/s \n",
            "\u001b[?25hRequirement already satisfied: astor>=0.6.0 in /usr/local/lib/python3.7/dist-packages (from tensorflow==1.14) (0.8.1)\n",
            "Requirement already satisfied: absl-py>=0.7.0 in /usr/local/lib/python3.7/dist-packages (from tensorflow==1.14) (0.10.0)\n",
            "Requirement already satisfied: grpcio>=1.8.6 in /usr/local/lib/python3.7/dist-packages (from tensorflow==1.14) (1.32.0)\n",
            "Collecting tensorflow-estimator<1.15.0rc0,>=1.14.0rc0\n",
            "\u001b[?25l  Downloading https://files.pythonhosted.org/packages/3c/d5/21860a5b11caf0678fbc8319341b0ae21a07156911132e0e71bffed0510d/tensorflow_estimator-1.14.0-py2.py3-none-any.whl (488kB)\n",
            "\u001b[K     |████████████████████████████████| 491kB 38.0MB/s \n",
            "\u001b[?25hRequirement already satisfied: keras-preprocessing>=1.0.5 in /usr/local/lib/python3.7/dist-packages (from tensorflow==1.14) (1.1.2)\n",
            "Requirement already satisfied: numpy<2.0,>=1.14.5 in /usr/local/lib/python3.7/dist-packages (from tensorflow==1.14) (1.19.5)\n",
            "Collecting tensorboard<1.15.0,>=1.14.0\n",
            "\u001b[?25l  Downloading https://files.pythonhosted.org/packages/91/2d/2ed263449a078cd9c8a9ba50ebd50123adf1f8cfbea1492f9084169b89d9/tensorboard-1.14.0-py3-none-any.whl (3.1MB)\n",
            "\u001b[K     |████████████████████████████████| 3.2MB 37.3MB/s \n",
            "\u001b[?25hRequirement already satisfied: six>=1.10.0 in /usr/local/lib/python3.7/dist-packages (from tensorflow==1.14) (1.15.0)\n",
            "Requirement already satisfied: termcolor>=1.1.0 in /usr/local/lib/python3.7/dist-packages (from tensorflow==1.14) (1.1.0)\n",
            "Requirement already satisfied: gast>=0.2.0 in /usr/local/lib/python3.7/dist-packages (from tensorflow==1.14) (0.3.3)\n",
            "Requirement already satisfied: setuptools in /usr/local/lib/python3.7/dist-packages (from protobuf>=3.6.1->tensorflow==1.14) (54.0.0)\n",
            "Requirement already satisfied: h5py in /usr/local/lib/python3.7/dist-packages (from keras-applications>=1.0.6->tensorflow==1.14) (2.10.0)\n",
            "Requirement already satisfied: werkzeug>=0.11.15 in /usr/local/lib/python3.7/dist-packages (from tensorboard<1.15.0,>=1.14.0->tensorflow==1.14) (1.0.1)\n",
            "Requirement already satisfied: markdown>=2.6.8 in /usr/local/lib/python3.7/dist-packages (from tensorboard<1.15.0,>=1.14.0->tensorflow==1.14) (3.3.4)\n",
            "Requirement already satisfied: importlib-metadata; python_version < \"3.8\" in /usr/local/lib/python3.7/dist-packages (from markdown>=2.6.8->tensorboard<1.15.0,>=1.14.0->tensorflow==1.14) (3.7.0)\n",
            "Requirement already satisfied: typing-extensions>=3.6.4; python_version < \"3.8\" in /usr/local/lib/python3.7/dist-packages (from importlib-metadata; python_version < \"3.8\"->markdown>=2.6.8->tensorboard<1.15.0,>=1.14.0->tensorflow==1.14) (3.7.4.3)\n",
            "Requirement already satisfied: zipp>=0.5 in /usr/local/lib/python3.7/dist-packages (from importlib-metadata; python_version < \"3.8\"->markdown>=2.6.8->tensorboard<1.15.0,>=1.14.0->tensorflow==1.14) (3.4.0)\n",
            "Installing collected packages: keras-applications, tensorflow-estimator, tensorboard, tensorflow\n",
            "  Found existing installation: tensorflow-estimator 2.4.0\n",
            "    Uninstalling tensorflow-estimator-2.4.0:\n",
            "      Successfully uninstalled tensorflow-estimator-2.4.0\n",
            "  Found existing installation: tensorboard 2.4.1\n",
            "    Uninstalling tensorboard-2.4.1:\n",
            "      Successfully uninstalled tensorboard-2.4.1\n",
            "Successfully installed keras-applications-1.0.8 tensorboard-1.14.0 tensorflow-1.14.0 tensorflow-estimator-1.14.0\n"
          ],
          "name": "stdout"
        }
      ]
    },
    {
      "cell_type": "markdown",
      "metadata": {
        "id": "cCZ1SPV2bmr7"
      },
      "source": [
        "Необходимо убедиться, что версия TensorFlow выбрана верно."
      ]
    },
    {
      "cell_type": "code",
      "metadata": {
        "colab": {
          "base_uri": "https://localhost:8080/"
        },
        "id": "Rc7o65H26Xdo",
        "outputId": "44d0ef3b-04f6-4fb7-91fd-e1e6b46d6d4f"
      },
      "source": [
        "%tensorflow_version 1.x\r\n",
        "import tensorflow as tf\r\n",
        "print(tf.__version__)"
      ],
      "execution_count": 14,
      "outputs": [
        {
          "output_type": "stream",
          "text": [
            "TensorFlow 1.x selected.\n",
            "1.15.2\n"
          ],
          "name": "stdout"
        }
      ]
    },
    {
      "cell_type": "code",
      "metadata": {
        "id": "M_Xz303M9wUo"
      },
      "source": [
        "learning_rate = 0.1\r\n",
        "epochs = 500\r\n",
        "batch_size = 128\r\n",
        "\r\n",
        "n_hidden_1 = 256\r\n",
        "n_hidden_2 = 256\r\n",
        "num_input =  65536\r\n",
        "num_classes = 2\r\n",
        "\r\n",
        "X = tf.compat.v1.placeholder('float', [None, num_input])\r\n",
        "Y = tf.compat.v1.placeholder('float', [None, num_classes])"
      ],
      "execution_count": 40,
      "outputs": []
    },
    {
      "cell_type": "code",
      "metadata": {
        "id": "UqTtbOOP9znA"
      },
      "source": [
        "weights = {\r\n",
        "    'h1' : tf.Variable(tf.random.normal([num_input, n_hidden_1])),\r\n",
        "    'h2' : tf.Variable(tf.random.normal([n_hidden_1, n_hidden_2])),\r\n",
        "    'output' : tf.Variable(tf.random.normal([n_hidden_2, num_classes])),    \r\n",
        "}\r\n",
        "biases = {\r\n",
        "    'b1' : tf.Variable(tf.random.normal([n_hidden_1])),\r\n",
        "    'b2' : tf.Variable(tf.random.normal([n_hidden_2])),\r\n",
        "    'output' : tf.Variable(tf.random.normal([num_classes])),    \r\n",
        "}"
      ],
      "execution_count": 41,
      "outputs": []
    },
    {
      "cell_type": "code",
      "metadata": {
        "id": "k_Q-FMia91Kw"
      },
      "source": [
        "def network(x):\r\n",
        "  layer_1 = tf.add(tf.matmul(x, weights['h1']), biases['b1'])\r\n",
        "  layer_2 = tf.add(tf.matmul(layer_1, weights['h2']), biases['b2'])\r\n",
        "  output_layer = tf.matmul(layer_2, weights['output']) + biases['output']\r\n",
        "  return output_layer"
      ],
      "execution_count": 42,
      "outputs": []
    },
    {
      "cell_type": "code",
      "metadata": {
        "id": "LxFhvNWo92y8"
      },
      "source": [
        "logits = network(X)\r\n",
        "\r\n",
        "loss = tf.reduce_mean(\r\n",
        "    tf.nn.softmax_cross_entropy_with_logits_v2(\r\n",
        "        logits=logits, labels=Y\r\n",
        "    )\r\n",
        ")\r\n",
        "optimizer = tf.train.AdamOptimizer(learning_rate=learning_rate)\r\n",
        "train = optimizer.minimize(loss)"
      ],
      "execution_count": 43,
      "outputs": []
    },
    {
      "cell_type": "code",
      "metadata": {
        "id": "zLqCfXH6-OUp"
      },
      "source": [
        "correct_prediction = tf.equal(tf.argmax(logits, 1), tf.argmax(Y, 1))\r\n",
        "accuracy = tf.reduce_mean(tf.cast(correct_prediction, tf.float32))\r\n",
        "\r\n",
        "init = tf.global_variables_initializer()"
      ],
      "execution_count": 44,
      "outputs": []
    },
    {
      "cell_type": "code",
      "metadata": {
        "colab": {
          "base_uri": "https://localhost:8080/"
        },
        "id": "DWEtLYEeB29L",
        "outputId": "44f189c3-411a-4456-8205-999d9d47aeab"
      },
      "source": [
        "cur_time = time.time()\r\n",
        "\r\n",
        "with tf.Session() as sess:\r\n",
        "  sess.run(init)\r\n",
        "\r\n",
        "  for epoch in range (epochs):\r\n",
        "    batch_x, batch_y = next_batch(batch_size, train_data, train_labels)\r\n",
        "    sess.run(train, feed_dict={X: batch_x, Y: batch_y})\r\n",
        "\r\n",
        "    if epoch % 100 == 0:\r\n",
        "      train_accurasy = sess.run(\r\n",
        "          accuracy,\r\n",
        "          feed_dict={\r\n",
        "              X: train_data,\r\n",
        "              Y: train_labels,\r\n",
        "          }\r\n",
        "      )\r\n",
        "\r\n",
        "      print('Epoch #{}: train accuracy = {}. Затрачено времени - {} сек'.format(epoch, train_accurasy, round(time.time() - cur_time, 2)))\r\n",
        "      cur_time = time.time()\r\n",
        "\r\n",
        "  print('Final accuracy = {}'.format(\r\n",
        "      sess.run(\r\n",
        "          accuracy,\r\n",
        "          feed_dict={\r\n",
        "              X: valid_data,\r\n",
        "              Y: valid_labels,\r\n",
        "          }\r\n",
        "      )\r\n",
        "  ))\r\n",
        "\r\n",
        "\r\n",
        "  cur_time = time.time()\r\n",
        "print('Затрачено времени на одно предсказание -', round(time.time() - cur_time, 2), 'cек')"
      ],
      "execution_count": 45,
      "outputs": [
        {
          "output_type": "stream",
          "text": [
            "Epoch #0: train accuracy = 0.535908579826355. Затрачено времени - 4.57 сек\n",
            "Epoch #100: train accuracy = 0.4662676751613617. Затрачено времени - 24.2 сек\n",
            "Epoch #200: train accuracy = 0.5299238562583923. Затрачено времени - 24.27 сек\n",
            "Epoch #300: train accuracy = 0.4986398220062256. Затрачено времени - 24.56 сек\n",
            "Epoch #400: train accuracy = 0.5228509306907654. Затрачено времени - 24.27 сек\n",
            "Final accuracy = 0.541304349899292\n",
            "Затрачено времени на одно предсказание - 0.03 cек\n"
          ],
          "name": "stdout"
        }
      ]
    }
  ]
}